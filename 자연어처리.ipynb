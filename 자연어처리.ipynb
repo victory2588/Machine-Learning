{
  "nbformat": 4,
  "nbformat_minor": 0,
  "metadata": {
    "colab": {
      "provenance": [],
      "authorship_tag": "ABX9TyM9rhVMgTb7stCBoMkn/to8",
      "include_colab_link": true
    },
    "kernelspec": {
      "name": "python3",
      "display_name": "Python 3"
    },
    "language_info": {
      "name": "python"
    },
    "accelerator": "GPU",
    "gpuClass": "standard"
  },
  "cells": [
    {
      "cell_type": "markdown",
      "metadata": {
        "id": "view-in-github",
        "colab_type": "text"
      },
      "source": [
        "<a href=\"https://colab.research.google.com/github/victory2588/Machine-Learning/blob/main/%EC%9E%90%EC%97%B0%EC%96%B4%EC%B2%98%EB%A6%AC.ipynb\" target=\"_parent\"><img src=\"https://colab.research.google.com/assets/colab-badge.svg\" alt=\"Open In Colab\"/></a>"
      ]
    },
    {
      "cell_type": "code",
      "execution_count": null,
      "metadata": {
        "colab": {
          "base_uri": "https://localhost:8080/"
        },
        "id": "4ziMAsqmy1nu",
        "outputId": "4634a5ab-f31f-447c-a474-06db270a14b3"
      },
      "outputs": [
        {
          "output_type": "stream",
          "name": "stdout",
          "text": [
            "--2022-11-14 06:22:16--  http://nlp.stanford.edu/data/glove.6B.zip\n",
            "Resolving nlp.stanford.edu (nlp.stanford.edu)... 171.64.67.140\n",
            "Connecting to nlp.stanford.edu (nlp.stanford.edu)|171.64.67.140|:80... connected.\n",
            "HTTP request sent, awaiting response... 302 Found\n",
            "Location: https://nlp.stanford.edu/data/glove.6B.zip [following]\n",
            "--2022-11-14 06:22:16--  https://nlp.stanford.edu/data/glove.6B.zip\n",
            "Connecting to nlp.stanford.edu (nlp.stanford.edu)|171.64.67.140|:443... connected.\n",
            "HTTP request sent, awaiting response... 301 Moved Permanently\n",
            "Location: https://downloads.cs.stanford.edu/nlp/data/glove.6B.zip [following]\n",
            "--2022-11-14 06:22:16--  https://downloads.cs.stanford.edu/nlp/data/glove.6B.zip\n",
            "Resolving downloads.cs.stanford.edu (downloads.cs.stanford.edu)... 171.64.64.22\n",
            "Connecting to downloads.cs.stanford.edu (downloads.cs.stanford.edu)|171.64.64.22|:443... connected.\n",
            "HTTP request sent, awaiting response... 200 OK\n",
            "Length: 862182613 (822M) [application/zip]\n",
            "Saving to: ‘glove.6B.zip’\n",
            "\n",
            "glove.6B.zip        100%[===================>] 822.24M  5.08MB/s    in 2m 44s  \n",
            "\n",
            "2022-11-14 06:25:00 (5.02 MB/s) - ‘glove.6B.zip’ saved [862182613/862182613]\n",
            "\n",
            "Archive:  glove.6B.zip\n",
            "  inflating: glove.6B.50d.txt        \n",
            "  inflating: glove.6B.100d.txt       \n",
            "  inflating: glove.6B.200d.txt       \n",
            "  inflating: glove.6B.300d.txt       \n",
            "glove.6B.100d.txt  glove.6B.300d.txt  glove.6B.zip\n",
            "glove.6B.200d.txt  glove.6B.50d.txt   sample_data\n",
            "/content\n",
            "Indexing word vectors\n"
          ]
        }
      ],
      "source": [
        "!wget http://nlp.stanford.edu/data/glove.6B.zip\n",
        "!unzip glove*.zip\n",
        "!ls\n",
        "!pwd\n",
        "print('Indexing word vectors')"
      ]
    },
    {
      "cell_type": "code",
      "source": [
        "import os\n",
        "import numpy as np\n",
        "from scipy.spatial import distance\n",
        "\n",
        "#IMDB 원본 데이터 읽기\n",
        "fname='/content/glove.6B.100d.txt'\n",
        "f=open(fname,encoding='utf8')\n",
        "\n",
        "for line in f:\n",
        "  print(type(line))\n",
        "  print(line)\n",
        "  break\n",
        "\n",
        "# 사전 구축(딕셔너리 자료구조로 표현)\n",
        "dictionary={}\n",
        "for line in f:\n",
        "  li=line.split()\n",
        "  word=li[0]\n",
        "  vector=np.asarray(li[1:],dtype='float32')\n",
        "  dictionary[word]=vector\n",
        "\n",
        "# 가장 가까운 단어를 찾아주는 함수\n",
        "def find_closest_words(vector):\n",
        "  return sorted(dictionary.keys(),key=lambda w: distance.euclidean(dictionary[w],vector))\n",
        "\n",
        "# 가까운 단어 찾기\n",
        "print(find_closest_words(dictionary['movie'])[:5])\n",
        "print(find_closest_words(dictionary['school'])[:5])\n",
        "print(find_closest_words(dictionary['oak'])[:5])\n",
        "\n",
        "# 단어 추론\n",
        "print(find_closest_words(dictionary[\"seoul\"]-dictionary[\"korea\"]+dictionary[\"spain\"])[:5])\n",
        "print(find_closest_words(dictionary[\"animal\"]-dictionary[\"lion\"]+dictionary[\"oak\"])[:5])\n",
        "print(find_closest_words(dictionary[\"queen\"]-dictionary[\"king\"]+dictionary[\"actress\"])[:5])"
      ],
      "metadata": {
        "colab": {
          "base_uri": "https://localhost:8080/"
        },
        "id": "X4Gn0hcHzWjW",
        "outputId": "224542a6-c2a0-4cfc-bed3-4a282b293710"
      },
      "execution_count": null,
      "outputs": [
        {
          "output_type": "stream",
          "name": "stdout",
          "text": [
            "<class 'str'>\n",
            "the -0.038194 -0.24487 0.72812 -0.39961 0.083172 0.043953 -0.39141 0.3344 -0.57545 0.087459 0.28787 -0.06731 0.30906 -0.26384 -0.13231 -0.20757 0.33395 -0.33848 -0.31743 -0.48336 0.1464 -0.37304 0.34577 0.052041 0.44946 -0.46971 0.02628 -0.54155 -0.15518 -0.14107 -0.039722 0.28277 0.14393 0.23464 -0.31021 0.086173 0.20397 0.52624 0.17164 -0.082378 -0.71787 -0.41531 0.20335 -0.12763 0.41367 0.55187 0.57908 -0.33477 -0.36559 -0.54857 -0.062892 0.26584 0.30205 0.99775 -0.80481 -3.0243 0.01254 -0.36942 2.2167 0.72201 -0.24978 0.92136 0.034514 0.46745 1.1079 -0.19358 -0.074575 0.23353 -0.052062 -0.22044 0.057162 -0.15806 -0.30798 -0.41625 0.37972 0.15006 -0.53212 -0.2055 -1.2526 0.071624 0.70565 0.49744 -0.42063 0.26148 -1.538 -0.30223 -0.073438 -0.28312 0.37104 -0.25217 0.016215 -0.017099 -0.38984 0.87424 -0.72569 -0.51058 -0.52028 -0.1459 0.8278 0.27062\n",
            "\n",
            "['movie', 'film', 'movies', 'films', 'hollywood']\n",
            "['school', 'college', 'schools', 'elementary', 'students']\n",
            "['oak', 'pine', 'cedar', 'walnut', 'grove']\n",
            "['madrid', 'spain', 'santiago', 'seville', 'valencia']\n",
            "['oak', 'trees', 'woodland', 'wood', 'organic']\n",
            "['actress', 'actresses', 'dancer', 'actor', 'comedienne']\n"
          ]
        }
      ]
    },
    {
      "cell_type": "code",
      "source": [
        "# TSNE 사용: 고차원을 2, 3차원으로 축소하여 데이터를 가시화\n",
        "from sklearn.manifold import TSNE\n",
        "import matplotlib.pyplot as plt\n",
        "\n",
        "# tsne를 이용하여 2차원 공간으로 축소하고 시각화\n",
        "tsne=TSNE(n_components=2,random_state=0)\n",
        "words=list(dictionary.keys())\n",
        "vectors=[dictionary[word] for word in words]\n",
        "p2=tsne.fit_transform(vectors[:100])\n",
        "plt.scatter(p2[:,0],p2[:,1])\n",
        "\n",
        "for label,x,y in zip(words,p2[:,0],p2[:,1]):\n",
        "  plt.annotate(label,xy=(x,y))"
      ],
      "metadata": {
        "colab": {
          "base_uri": "https://localhost:8080/",
          "height": 338
        },
        "id": "MFYZ9EAE4dJn",
        "outputId": "a8ac8e4c-b54b-4b18-ef35-fabe287fc1b7"
      },
      "execution_count": null,
      "outputs": [
        {
          "output_type": "stream",
          "name": "stderr",
          "text": [
            "/usr/local/lib/python3.7/dist-packages/sklearn/manifold/_t_sne.py:783: FutureWarning: The default initialization in TSNE will change from 'random' to 'pca' in 1.2.\n",
            "  FutureWarning,\n",
            "/usr/local/lib/python3.7/dist-packages/sklearn/manifold/_t_sne.py:793: FutureWarning: The default learning rate in TSNE will change from 200.0 to 'auto' in 1.2.\n",
            "  FutureWarning,\n"
          ]
        },
        {
          "output_type": "display_data",
          "data": {
            "text/plain": [
              "<Figure size 432x288 with 1 Axes>"
            ],
            "image/png": "[encoded data removed]"
          },
          "metadata": {
            "needs_background": "light"
          }
        }
      ]
    },
    {
      "cell_type": "code",
      "source": [
        "from collections import Counter\n",
        "import urllib.request #spam 메일 데이터 받아오려고\n",
        "import pandas as pd\n",
        "import numpy as np\n",
        "import tensorflow as tf\n",
        "\n",
        "import nltk\n",
        "from nltk.tokenize import sent_tokenize\n",
        "from nltk import WordPunctTokenizer\n",
        "\n",
        "nltk.download('punkt')"
      ],
      "metadata": {
        "colab": {
          "base_uri": "https://localhost:8080/"
        },
        "id": "ziIKqH8p-FO4",
        "outputId": "cda3909d-4f1a-40b6-8cf7-a0a285e1b520"
      },
      "execution_count": null,
      "outputs": [
        {
          "output_type": "stream",
          "name": "stderr",
          "text": [
            "[nltk_data] Downloading package punkt to /root/nltk_data...\n",
            "[nltk_data]   Unzipping tokenizers/punkt.zip.\n"
          ]
        },
        {
          "output_type": "execute_result",
          "data": {
            "text/plain": [
              "True"
            ]
          },
          "metadata": {},
          "execution_count": 8
        }
      ]
    },
    {
      "cell_type": "code",
      "source": [
        "# 스팸 분류 데이터 로딩\n",
        "urllib.request.urlretrieve(\"https://raw.githubusercontent.com/mohitgupta-omg/Kaggle-SMS-Spam-Collection-Dataset-/master/spam.csv\",filename=\"spam.csv\")\n",
        "data=pd.read_csv('spam.csv',encoding='latin-1')\n",
        "print('총 샘플의 수: ',len(data))\n",
        "data[:5]\n",
        "\n",
        "texts=list(data['v2'])\n",
        "labels=list(data['v1'])\n",
        "print(texts[:5])\n",
        "print(labels[:5])\n",
        "\n",
        "print(Counter(labels))\n",
        "\n",
        "# 글로브 벡터 모델 초기화\n",
        "glove={}\n",
        "with open('glove.6B.50d.txt','r',encoding='utf-8') as fr:\n",
        "  for line in fr.readlines():\n",
        "    temp=line.strip().split()\n",
        "    word=temp[0]\n",
        "    vector=temp[1:]\n",
        "    glove[word]=list(map(float,vector))"
      ],
      "metadata": {
        "colab": {
          "base_uri": "https://localhost:8080/"
        },
        "id": "eJG9iIkN-uxM",
        "outputId": "84eb11eb-f6c9-48f8-d008-00f64e39e9c9"
      },
      "execution_count": null,
      "outputs": [
        {
          "output_type": "stream",
          "name": "stdout",
          "text": [
            "총 샘플의 수:  5572\n",
            "['Go until jurong point, crazy.. Available only in bugis n great world la e buffet... Cine there got amore wat...', 'Ok lar... Joking wif u oni...', \"Free entry in 2 a wkly comp to win FA Cup final tkts 21st May 2005. Text FA to 87121 to receive entry question(std txt rate)T&C's apply 08452810075over18's\", 'U dun say so early hor... U c already then say...', \"Nah I don't think he goes to usf, he lives around here though\"]\n",
            "['ham', 'ham', 'spam', 'ham', 'ham']\n",
            "Counter({'ham': 4825, 'spam': 747})\n"
          ]
        }
      ]
    },
    {
      "cell_type": "code",
      "source": [
        "def tokenize(document):\n",
        "  words=[]\n",
        "  # sentence tokenizing: 구문을 문장 단위로 분리\n",
        "  sentences=sent_tokenize(document)\n",
        "\n",
        "  for sentence in sentences:\n",
        "    words.extend(WordPunctTokenizer().tokenize(sentence))\n",
        "  return [word.lower() for word in words] # 표준화\n",
        "\n",
        "\n",
        "def get_vector(sentence):\n",
        "  tokens=tokenize(sentence)\n",
        "  vector=[glove[token] if token in glove.keys() else [0]*50 for token in tokens]\n",
        "\n",
        "  while len(vector)<256:\n",
        "    vector.append([0]*50)\n",
        "  return vector[:256]\n"
      ],
      "metadata": {
        "id": "R5VTFa6hAQRB"
      },
      "execution_count": null,
      "outputs": []
    },
    {
      "cell_type": "code",
      "source": [
        "x=[get_vector(text) for text in texts]\n",
        "x_train,x_test=np.array(x[:5000]),np.array(x[5000:])\n",
        "y=[0 if label == 'spam' else 1 for label in labels]\n",
        "y_train,y_test=np.array(y[:5000]),np.array(y[5000:])\n",
        "\n",
        "model=tf.keras.models.Sequential()\n",
        "model.add(tf.keras.layers.Input(shape=(x_train.shape[1],x_train.shape[2])))\n",
        "model.add(tf.keras.layers.Bidirectional(tf.keras.layers.LSTM(128)))\n",
        "model.add(tf.keras.layers.Dense(64,activation='relu'))\n",
        "model.add(tf.keras.layers.Dense(2,activation='softmax'))\n",
        "\n",
        "model.summary()\n",
        "\n",
        "model.compile(optimizer='adam',loss='sparse_categorical_crossentropy',metrics=['accuracy'])\n",
        "history=model.fit(x_train,y_train,epochs=5,batch_size=64,validation_split=0.2)\n",
        "\n",
        "ev=model.evaluate(x_test,y_test,verbose=2)\n",
        "print(\"손실함수: \",ev[0],\" 정확성: \",ev[1])"
      ],
      "metadata": {
        "colab": {
          "base_uri": "https://localhost:8080/"
        },
        "id": "xt_W6eY7BFDa",
        "outputId": "05eb6b73-0419-41bb-ce62-324ab35c75f0"
      },
      "execution_count": null,
      "outputs": [
        {
          "output_type": "stream",
          "name": "stdout",
          "text": [
            "Model: \"sequential_1\"\n",
            "_________________________________________________________________\n",
            " Layer (type)                Output Shape              Param #   \n",
            "=================================================================\n",
            " bidirectional_1 (Bidirectio  (None, 256)              183296    \n",
            " nal)                                                            \n",
            "                                                                 \n",
            " dense_2 (Dense)             (None, 64)                16448     \n",
            "                                                                 \n",
            " dense_3 (Dense)             (None, 2)                 130       \n",
            "                                                                 \n",
            "=================================================================\n",
            "Total params: 199,874\n",
            "Trainable params: 199,874\n",
            "Non-trainable params: 0\n",
            "_________________________________________________________________\n",
            "Epoch 1/5\n",
            "63/63 [==============================] - 6s 44ms/step - loss: 0.2252 - accuracy: 0.9187 - val_loss: 0.0940 - val_accuracy: 0.9700\n",
            "Epoch 2/5\n",
            "63/63 [==============================] - 2s 30ms/step - loss: 0.0965 - accuracy: 0.9695 - val_loss: 0.0931 - val_accuracy: 0.9730\n",
            "Epoch 3/5\n",
            "63/63 [==============================] - 2s 30ms/step - loss: 0.0741 - accuracy: 0.9778 - val_loss: 0.1080 - val_accuracy: 0.9590\n",
            "Epoch 4/5\n",
            "63/63 [==============================] - 2s 31ms/step - loss: 0.0747 - accuracy: 0.9712 - val_loss: 0.0594 - val_accuracy: 0.9800\n",
            "Epoch 5/5\n",
            "63/63 [==============================] - 2s 30ms/step - loss: 0.0538 - accuracy: 0.9837 - val_loss: 0.0865 - val_accuracy: 0.9670\n",
            "18/18 - 0s - loss: 0.0557 - accuracy: 0.9808 - 206ms/epoch - 11ms/step\n",
            "손실함수:  0.055662866681814194  정확성:  0.9807692170143127\n"
          ]
        }
      ]
    },
    {
      "cell_type": "code",
      "source": [],
      "metadata": {
        "id": "TFZHVVnm_r4g"
      },
      "execution_count": null,
      "outputs": []
    }
  ]
}