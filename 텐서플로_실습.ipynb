{
  "nbformat": 4,
  "nbformat_minor": 0,
  "metadata": {
    "colab": {
      "provenance": [],
      "collapsed_sections": [],
      "authorship_tag": "ABX9TyO9Jf6Wqv9g2Y/hLXz6ev48",
      "include_colab_link": true
    },
    "kernelspec": {
      "name": "python3",
      "display_name": "Python 3"
    },
    "language_info": {
      "name": "python"
    }
  },
  "cells": [
    {
      "cell_type": "markdown",
      "metadata": {
        "id": "view-in-github",
        "colab_type": "text"
      },
      "source": [
        "<a href=\"https://colab.research.google.com/github/victory2588/Machine-Learning/blob/main/%ED%85%90%EC%84%9C%ED%94%8C%EB%A1%9C_%EC%8B%A4%EC%8A%B5.ipynb\" target=\"_parent\"><img src=\"https://colab.research.google.com/assets/colab-badge.svg\" alt=\"Open In Colab\"/></a>"
      ]
    },
    {
      "cell_type": "code",
      "execution_count": null,
      "metadata": {
        "colab": {
          "base_uri": "https://localhost:8080/"
        },
        "id": "pbqw1dZoeLz1",
        "outputId": "6acd977f-4f16-4c79-c828-2f9dc3fca2f8"
      },
      "outputs": [
        {
          "output_type": "stream",
          "name": "stdout",
          "text": [
            "2.8.2\n",
            "tf.Tensor(\n",
            "[[0.7790962  0.958157   0.6642221 ]\n",
            " [0.70453024 0.2503053  0.6156015 ]], shape=(2, 3), dtype=float32)\n",
            "<class 'tensorflow.python.framework.ops.EagerTensor'>\n"
          ]
        }
      ],
      "source": [
        "import tensorflow as tf\n",
        "\n",
        "print(tf.__version__)\n",
        "a=tf.random.uniform([2,3],0.1)\n",
        "print(a)\n",
        "print(type(a))"
      ]
    },
    {
      "cell_type": "code",
      "source": [
        "import numpy as np\n",
        "import tensorflow as tf\n",
        "from tensorflow.keras.datasets import mnist\n",
        "\n",
        "from tensorflow.keras.models import Sequential\n",
        "from tensorflow.keras.layers import Dense\n",
        "from tensorflow.keras.optimizers import Adam\n",
        "\n",
        "(x_train,y_train),(x_test,y_test)=mnist.load_data()\n",
        "x_train=x_train.reshape(60000,784)\n",
        "x_test=x_test.reshape(10000,784)\n",
        "x_train=x_train.astype(np.float32)/255.0\n",
        "x_test=x_test.astype(np.float32)/255.0\n",
        "y_train=tf.keras.utils.to_categorical(y_train,10)\n",
        "y_test=tf.keras.utils.to_categorical(y_test,10)\n",
        "\n",
        "n_input=784\n",
        "n_hidden=1024\n",
        "n_output=10\n",
        "\n",
        "mlp=Sequential()\n",
        "mlp.add(Dense(units=n_hidden,activation=\"tanh\",input_shape=(n_input,),kernel_initializer='random_uniform',bias_initializer='zeros'))\n",
        "mlp.add(Dense(units=n_output,activation=\"tanh\",kernel_initializer='random_uniform',bias_initializer='zeros'))\n",
        "\n",
        "mlp.compile(loss='mean_squared_error',optimizer=Adam(learning_rate=0.001),metrics=['accuracy'])\n",
        "hist=mlp.fit(x_train,y_train,batch_size=128,epochs=30,validation_data=(x_test,y_test),verbose=2)\n",
        "\n",
        "res=mlp.evaluate(x_test,y_test,verbose=0)\n",
        "print(\"정확률은\",res[1]*100)"
      ],
      "metadata": {
        "colab": {
          "base_uri": "https://localhost:8080/"
        },
        "id": "2J4FxL0akE5J",
        "outputId": "6196d082-2ca0-4571-cc17-a19db05c3cd8"
      },
      "execution_count": null,
      "outputs": [
        {
          "output_type": "stream",
          "name": "stdout",
          "text": [
            "Epoch 1/30\n",
            "469/469 - 8s - loss: 0.0435 - accuracy: 0.8449 - val_loss: 0.0276 - val_accuracy: 0.9102 - 8s/epoch - 16ms/step\n",
            "Epoch 2/30\n",
            "469/469 - 6s - loss: 0.0226 - accuracy: 0.9273 - val_loss: 0.0188 - val_accuracy: 0.9416 - 6s/epoch - 13ms/step\n",
            "Epoch 3/30\n",
            "469/469 - 6s - loss: 0.0166 - accuracy: 0.9474 - val_loss: 0.0148 - val_accuracy: 0.9530 - 6s/epoch - 13ms/step\n",
            "Epoch 4/30\n",
            "469/469 - 6s - loss: 0.0137 - accuracy: 0.9572 - val_loss: 0.0135 - val_accuracy: 0.9591 - 6s/epoch - 14ms/step\n",
            "Epoch 5/30\n",
            "469/469 - 6s - loss: 0.0121 - accuracy: 0.9637 - val_loss: 0.0115 - val_accuracy: 0.9612 - 6s/epoch - 13ms/step\n",
            "Epoch 6/30\n",
            "469/469 - 6s - loss: 0.0110 - accuracy: 0.9678 - val_loss: 0.0113 - val_accuracy: 0.9635 - 6s/epoch - 13ms/step\n",
            "Epoch 7/30\n",
            "469/469 - 6s - loss: 0.0102 - accuracy: 0.9711 - val_loss: 0.0104 - val_accuracy: 0.9661 - 6s/epoch - 13ms/step\n",
            "Epoch 8/30\n",
            "469/469 - 6s - loss: 0.0094 - accuracy: 0.9734 - val_loss: 0.0101 - val_accuracy: 0.9682 - 6s/epoch - 13ms/step\n",
            "Epoch 9/30\n",
            "469/469 - 6s - loss: 0.0089 - accuracy: 0.9755 - val_loss: 0.0099 - val_accuracy: 0.9702 - 6s/epoch - 13ms/step\n",
            "Epoch 10/30\n",
            "469/469 - 6s - loss: 0.0084 - accuracy: 0.9772 - val_loss: 0.0097 - val_accuracy: 0.9716 - 6s/epoch - 13ms/step\n",
            "Epoch 11/30\n",
            "469/469 - 6s - loss: 0.0080 - accuracy: 0.9788 - val_loss: 0.0091 - val_accuracy: 0.9717 - 6s/epoch - 13ms/step\n",
            "Epoch 12/30\n",
            "469/469 - 6s - loss: 0.0078 - accuracy: 0.9804 - val_loss: 0.0090 - val_accuracy: 0.9723 - 6s/epoch - 13ms/step\n",
            "Epoch 13/30\n",
            "469/469 - 7s - loss: 0.0073 - accuracy: 0.9815 - val_loss: 0.0085 - val_accuracy: 0.9730 - 7s/epoch - 14ms/step\n",
            "Epoch 14/30\n",
            "469/469 - 6s - loss: 0.0071 - accuracy: 0.9830 - val_loss: 0.0088 - val_accuracy: 0.9732 - 6s/epoch - 13ms/step\n",
            "Epoch 15/30\n",
            "469/469 - 6s - loss: 0.0069 - accuracy: 0.9837 - val_loss: 0.0088 - val_accuracy: 0.9739 - 6s/epoch - 13ms/step\n",
            "Epoch 16/30\n",
            "469/469 - 6s - loss: 0.0067 - accuracy: 0.9849 - val_loss: 0.0084 - val_accuracy: 0.9755 - 6s/epoch - 13ms/step\n",
            "Epoch 17/30\n",
            "469/469 - 6s - loss: 0.0064 - accuracy: 0.9860 - val_loss: 0.0079 - val_accuracy: 0.9746 - 6s/epoch - 13ms/step\n",
            "Epoch 18/30\n",
            "469/469 - 6s - loss: 0.0063 - accuracy: 0.9866 - val_loss: 0.0078 - val_accuracy: 0.9747 - 6s/epoch - 13ms/step\n",
            "Epoch 19/30\n",
            "469/469 - 6s - loss: 0.0061 - accuracy: 0.9872 - val_loss: 0.0082 - val_accuracy: 0.9753 - 6s/epoch - 13ms/step\n",
            "Epoch 20/30\n",
            "469/469 - 6s - loss: 0.0059 - accuracy: 0.9878 - val_loss: 0.0077 - val_accuracy: 0.9756 - 6s/epoch - 13ms/step\n",
            "Epoch 21/30\n",
            "469/469 - 6s - loss: 0.0057 - accuracy: 0.9886 - val_loss: 0.0077 - val_accuracy: 0.9759 - 6s/epoch - 13ms/step\n",
            "Epoch 22/30\n",
            "469/469 - 6s - loss: 0.0056 - accuracy: 0.9890 - val_loss: 0.0077 - val_accuracy: 0.9744 - 6s/epoch - 13ms/step\n",
            "Epoch 23/30\n",
            "469/469 - 6s - loss: 0.0054 - accuracy: 0.9896 - val_loss: 0.0075 - val_accuracy: 0.9762 - 6s/epoch - 13ms/step\n",
            "Epoch 24/30\n",
            "469/469 - 6s - loss: 0.0054 - accuracy: 0.9898 - val_loss: 0.0074 - val_accuracy: 0.9748 - 6s/epoch - 13ms/step\n",
            "Epoch 25/30\n",
            "469/469 - 6s - loss: 0.0052 - accuracy: 0.9905 - val_loss: 0.0075 - val_accuracy: 0.9760 - 6s/epoch - 13ms/step\n",
            "Epoch 26/30\n",
            "469/469 - 6s - loss: 0.0051 - accuracy: 0.9909 - val_loss: 0.0073 - val_accuracy: 0.9752 - 6s/epoch - 13ms/step\n",
            "Epoch 27/30\n",
            "469/469 - 6s - loss: 0.0050 - accuracy: 0.9914 - val_loss: 0.0076 - val_accuracy: 0.9760 - 6s/epoch - 13ms/step\n",
            "Epoch 28/30\n",
            "469/469 - 6s - loss: 0.0049 - accuracy: 0.9918 - val_loss: 0.0077 - val_accuracy: 0.9765 - 6s/epoch - 13ms/step\n",
            "Epoch 29/30\n",
            "469/469 - 6s - loss: 0.0048 - accuracy: 0.9922 - val_loss: 0.0076 - val_accuracy: 0.9755 - 6s/epoch - 13ms/step\n",
            "Epoch 30/30\n",
            "469/469 - 6s - loss: 0.0047 - accuracy: 0.9923 - val_loss: 0.0075 - val_accuracy: 0.9758 - 6s/epoch - 13ms/step\n",
            "정확률은 97.57999777793884\n"
          ]
        }
      ]
    },
    {
      "cell_type": "code",
      "source": [
        "import numpy as np\n",
        "import tensorflow as tf\n",
        "from tensorflow.keras.datasets import fashion_mnist\n",
        "\n",
        "from tensorflow.keras.models import Sequential\n",
        "from tensorflow.keras.layers import Dense\n",
        "from tensorflow.keras.optimizers import Adam\n",
        "\n",
        "(x_train,y_train),(x_test,y_test)=fashion_mnist.load_data()\n",
        "x_train=x_train.reshape(60000,784)\n",
        "x_test=x_test.reshape(10000,784)\n",
        "x_train=x_train.astype(np.float32)/255.0\n",
        "x_test=x_test.astype(np.float32)/255.0\n",
        "y_train=tf.keras.utils.to_categorical(y_train,10)\n",
        "y_test=tf.keras.utils.to_categorical(y_test,10)\n",
        "\n",
        "n_input=784\n",
        "n_hidden=1024\n",
        "n_output=10\n",
        "\n",
        "mlp=Sequential()\n",
        "mlp.add(Dense(units=n_hidden,activation=\"tanh\",input_shape=(n_input,),kernel_initializer='random_uniform',bias_initializer='zeros'))\n",
        "mlp.add(Dense(units=n_output,activation=\"tanh\",kernel_initializer='random_uniform',bias_initializer='zeros'))\n",
        "\n",
        "mlp.compile(loss='mean_squared_error',optimizer=Adam(learning_rate=0.001),metrics=['accuracy'])\n",
        "hist=mlp.fit(x_train,y_train,batch_size=128,epochs=30,validation_data=(x_test,y_test),verbose=2)\n",
        "\n",
        "res=mlp.evaluate(x_test,y_test,verbose=0)\n",
        "print(\"정확률은\",res[1]*100)"
      ],
      "metadata": {
        "colab": {
          "base_uri": "https://localhost:8080/"
        },
        "id": "BFno-mTr3uOV",
        "outputId": "9d471e4f-e436-4e60-d52e-ed7fcbe4841a"
      },
      "execution_count": null,
      "outputs": [
        {
          "output_type": "stream",
          "name": "stdout",
          "text": [
            "Downloading data from https://storage.googleapis.com/tensorflow/tf-keras-datasets/train-labels-idx1-ubyte.gz\n",
            "32768/29515 [=================================] - 0s 0us/step\n",
            "40960/29515 [=========================================] - 0s 0us/step\n",
            "Downloading data from https://storage.googleapis.com/tensorflow/tf-keras-datasets/train-images-idx3-ubyte.gz\n",
            "26427392/26421880 [==============================] - 0s 0us/step\n",
            "26435584/26421880 [==============================] - 0s 0us/step\n",
            "Downloading data from https://storage.googleapis.com/tensorflow/tf-keras-datasets/t10k-labels-idx1-ubyte.gz\n",
            "16384/5148 [===============================================================================================] - 0s 0us/step\n",
            "Downloading data from https://storage.googleapis.com/tensorflow/tf-keras-datasets/t10k-images-idx3-ubyte.gz\n",
            "4423680/4422102 [==============================] - 0s 0us/step\n",
            "4431872/4422102 [==============================] - 0s 0us/step\n",
            "Epoch 1/30\n",
            "469/469 - 7s - loss: 0.0606 - accuracy: 0.7522 - val_loss: 0.0350 - val_accuracy: 0.8203 - 7s/epoch - 15ms/step\n",
            "Epoch 2/30\n",
            "469/469 - 6s - loss: 0.0305 - accuracy: 0.8428 - val_loss: 0.0308 - val_accuracy: 0.8353 - 6s/epoch - 13ms/step\n",
            "Epoch 3/30\n",
            "469/469 - 6s - loss: 0.0274 - accuracy: 0.8558 - val_loss: 0.0271 - val_accuracy: 0.8480 - 6s/epoch - 13ms/step\n",
            "Epoch 4/30\n",
            "469/469 - 6s - loss: 0.0250 - accuracy: 0.8669 - val_loss: 0.0263 - val_accuracy: 0.8568 - 6s/epoch - 13ms/step\n",
            "Epoch 5/30\n",
            "469/469 - 6s - loss: 0.0238 - accuracy: 0.8741 - val_loss: 0.0242 - val_accuracy: 0.8631 - 6s/epoch - 13ms/step\n",
            "Epoch 6/30\n",
            "469/469 - 6s - loss: 0.0225 - accuracy: 0.8806 - val_loss: 0.0233 - val_accuracy: 0.8661 - 6s/epoch - 13ms/step\n",
            "Epoch 7/30\n",
            "469/469 - 6s - loss: 0.0215 - accuracy: 0.8852 - val_loss: 0.0236 - val_accuracy: 0.8694 - 6s/epoch - 13ms/step\n",
            "Epoch 8/30\n",
            "469/469 - 6s - loss: 0.0208 - accuracy: 0.8886 - val_loss: 0.0220 - val_accuracy: 0.8747 - 6s/epoch - 13ms/step\n",
            "Epoch 9/30\n",
            "469/469 - 6s - loss: 0.0200 - accuracy: 0.8930 - val_loss: 0.0219 - val_accuracy: 0.8743 - 6s/epoch - 13ms/step\n",
            "Epoch 10/30\n",
            "469/469 - 6s - loss: 0.0196 - accuracy: 0.8960 - val_loss: 0.0212 - val_accuracy: 0.8775 - 6s/epoch - 13ms/step\n",
            "Epoch 11/30\n",
            "469/469 - 6s - loss: 0.0189 - accuracy: 0.8990 - val_loss: 0.0214 - val_accuracy: 0.8777 - 6s/epoch - 13ms/step\n",
            "Epoch 12/30\n",
            "469/469 - 6s - loss: 0.0185 - accuracy: 0.9027 - val_loss: 0.0212 - val_accuracy: 0.8808 - 6s/epoch - 13ms/step\n",
            "Epoch 13/30\n",
            "469/469 - 6s - loss: 0.0180 - accuracy: 0.9047 - val_loss: 0.0206 - val_accuracy: 0.8833 - 6s/epoch - 13ms/step\n",
            "Epoch 14/30\n",
            "469/469 - 6s - loss: 0.0178 - accuracy: 0.9071 - val_loss: 0.0213 - val_accuracy: 0.8833 - 6s/epoch - 13ms/step\n",
            "Epoch 15/30\n",
            "469/469 - 6s - loss: 0.0173 - accuracy: 0.9095 - val_loss: 0.0206 - val_accuracy: 0.8836 - 6s/epoch - 13ms/step\n",
            "Epoch 16/30\n",
            "469/469 - 6s - loss: 0.0170 - accuracy: 0.9126 - val_loss: 0.0197 - val_accuracy: 0.8863 - 6s/epoch - 13ms/step\n",
            "Epoch 17/30\n",
            "469/469 - 6s - loss: 0.0166 - accuracy: 0.9154 - val_loss: 0.0200 - val_accuracy: 0.8876 - 6s/epoch - 13ms/step\n",
            "Epoch 18/30\n",
            "469/469 - 6s - loss: 0.0162 - accuracy: 0.9175 - val_loss: 0.0197 - val_accuracy: 0.8861 - 6s/epoch - 13ms/step\n",
            "Epoch 19/30\n",
            "469/469 - 6s - loss: 0.0160 - accuracy: 0.9189 - val_loss: 0.0197 - val_accuracy: 0.8893 - 6s/epoch - 13ms/step\n",
            "Epoch 20/30\n",
            "469/469 - 6s - loss: 0.0157 - accuracy: 0.9216 - val_loss: 0.0192 - val_accuracy: 0.8902 - 6s/epoch - 13ms/step\n",
            "Epoch 21/30\n",
            "469/469 - 6s - loss: 0.0153 - accuracy: 0.9241 - val_loss: 0.0199 - val_accuracy: 0.8887 - 6s/epoch - 13ms/step\n",
            "Epoch 22/30\n",
            "469/469 - 6s - loss: 0.0151 - accuracy: 0.9269 - val_loss: 0.0190 - val_accuracy: 0.8905 - 6s/epoch - 13ms/step\n",
            "Epoch 23/30\n",
            "469/469 - 6s - loss: 0.0149 - accuracy: 0.9272 - val_loss: 0.0203 - val_accuracy: 0.8915 - 6s/epoch - 13ms/step\n",
            "Epoch 24/30\n",
            "469/469 - 6s - loss: 0.0146 - accuracy: 0.9292 - val_loss: 0.0189 - val_accuracy: 0.8930 - 6s/epoch - 13ms/step\n",
            "Epoch 25/30\n",
            "469/469 - 6s - loss: 0.0146 - accuracy: 0.9308 - val_loss: 0.0196 - val_accuracy: 0.8911 - 6s/epoch - 13ms/step\n",
            "Epoch 26/30\n",
            "469/469 - 6s - loss: 0.0140 - accuracy: 0.9325 - val_loss: 0.0194 - val_accuracy: 0.8929 - 6s/epoch - 13ms/step\n",
            "Epoch 27/30\n",
            "469/469 - 6s - loss: 0.0138 - accuracy: 0.9349 - val_loss: 0.0185 - val_accuracy: 0.8924 - 6s/epoch - 13ms/step\n",
            "Epoch 28/30\n",
            "469/469 - 6s - loss: 0.0136 - accuracy: 0.9363 - val_loss: 0.0196 - val_accuracy: 0.8946 - 6s/epoch - 13ms/step\n",
            "Epoch 29/30\n",
            "469/469 - 6s - loss: 0.0135 - accuracy: 0.9380 - val_loss: 0.0191 - val_accuracy: 0.8933 - 6s/epoch - 13ms/step\n",
            "Epoch 30/30\n",
            "469/469 - 6s - loss: 0.0131 - accuracy: 0.9407 - val_loss: 0.0196 - val_accuracy: 0.8951 - 6s/epoch - 13ms/step\n",
            "정확률은 89.50999975204468\n"
          ]
        }
      ]
    },
    {
      "cell_type": "code",
      "source": [],
      "metadata": {
        "id": "ZeMnvI5o0CGt"
      },
      "execution_count": null,
      "outputs": []
    }
  ]
}